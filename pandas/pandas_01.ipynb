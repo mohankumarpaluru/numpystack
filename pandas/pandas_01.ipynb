{
 "metadata": {
  "language_info": {
   "codemirror_mode": {
    "name": "ipython",
    "version": 3
   },
   "file_extension": ".py",
   "mimetype": "text/x-python",
   "name": "python",
   "nbconvert_exporter": "python",
   "pygments_lexer": "ipython3",
   "version": "3.6.8-final"
  },
  "orig_nbformat": 2,
  "kernelspec": {
   "name": "python_defaultSpec_1598971512651",
   "display_name": "Python 3.6.8 64-bit ('venv': venv)"
  }
 },
 "nbformat": 4,
 "nbformat_minor": 2,
 "cells": [
  {
   "cell_type": "code",
   "execution_count": null,
   "metadata": {
    "tags": []
   },
   "outputs": [],
   "source": [
    "import sys\n",
    "# !{sys.executable} -m pip install pandas"
   ]
  },
  {
   "cell_type": "code",
   "execution_count": null,
   "metadata": {},
   "outputs": [],
   "source": [
    "import pandas as pd "
   ]
  },
  {
   "cell_type": "code",
   "execution_count": 8,
   "metadata": {},
   "outputs": [],
   "source": [
    "df = pd.read_csv(\"sbux.csv\")\n"
   ]
  },
  {
   "cell_type": "code",
   "execution_count": null,
   "metadata": {},
   "outputs": [],
   "source": [
    "!head sbux.csv"
   ]
  },
  {
   "cell_type": "code",
   "execution_count": 15,
   "metadata": {
    "tags": []
   },
   "outputs": [
    {
     "output_type": "stream",
     "name": "stdout",
     "text": "2002-01-03,19.59,20.5,19.58,4.603029,up\n2002-01-04,21.709999,22.5,21.700001,4.983985,up\n2002-01-07,22.08,22.49,21.75,4.923122,down\n2002-01-08,21.879999,22.809999,21.85,5.114727,up\n2002-01-09,22.85,22.969999,21.83,4.929885,down\n2002-01-10,21.92,22.5,21.700001,5.065135,up\n2002-01-11,22.450001,22.559999,21.809999,4.932139,down\n2002-01-14,21.879999,22.02,21.559999,4.936647,up\n2002-01-15,21.82,22.01,21.709999,4.938902,up\n2002-01-16,21.940001,22.040001,21.200001,4.790126,down\n"
    }
   ],
   "source": [
    "df.head(10)"
   ]
  },
  {
   "cell_type": "code",
   "execution_count": null,
   "metadata": {},
   "outputs": [],
   "source": []
  }
 ]
}